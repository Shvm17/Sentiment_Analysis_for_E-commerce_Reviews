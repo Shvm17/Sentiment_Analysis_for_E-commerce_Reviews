{
 "cells": [
  {
   "cell_type": "markdown",
   "id": "0f71ed3d",
   "metadata": {},
   "source": [
    "# Importing Dependencies"
   ]
  },
  {
   "cell_type": "code",
   "execution_count": null,
   "id": "fff2ff62",
   "metadata": {},
   "outputs": [],
   "source": [
    "import os\n",
    "import pandas as pd\n",
    "import matplotlib.pyplot as plt\n",
    "import seaborn as sns\n",
    "import nltk\n",
    "from nltk.corpus import stopwords\n",
    "from wordcloud import WordCloud\n",
    "from transformers import pipeline\n",
    "from sentence_transformers import SentenceTransformer\n",
    "from sklearn.preprocessing import LabelEncoder\n",
    "from sklearn.manifold import TSNE\n",
    "import warnings\n",
    "warnings.filterwarnings('ignore')"
   ]
  },
  {
   "cell_type": "markdown",
   "id": "dd8455d4",
   "metadata": {},
   "source": [
    "# Download Dataset"
   ]
  },
  {
   "cell_type": "code",
   "execution_count": null,
   "id": "33e598d0",
   "metadata": {},
   "outputs": [],
   "source": [
    "'''\n",
    "import kagglehub\n",
    "\n",
    "# Download latest version\n",
    "path = kagglehub.dataset_download(\"mannacharya/blinkit-vs-zepto-vs-instamart-reviews\")\n",
    "\n",
    "print(\"Path to dataset files:\", path)\n",
    "'''\n"
   ]
  },
  {
   "cell_type": "code",
   "execution_count": null,
   "id": "a8385bb0",
   "metadata": {},
   "outputs": [],
   "source": [
    "os.listdir('C://Users//shivam sharma//.cache//kagglehub//datasets//mannacharya')"
   ]
  },
  {
   "cell_type": "code",
   "execution_count": null,
   "id": "840f0a4e",
   "metadata": {},
   "outputs": [],
   "source": [
    "df = pd.read_csv('reviews.csv')"
   ]
  },
  {
   "cell_type": "markdown",
   "id": "8d3e5dd5",
   "metadata": {},
   "source": [
    "# Quick Lookup into Data"
   ]
  },
  {
   "cell_type": "code",
   "execution_count": null,
   "id": "c4ccbf27",
   "metadata": {},
   "outputs": [],
   "source": [
    "df.head()"
   ]
  },
  {
   "cell_type": "code",
   "execution_count": null,
   "id": "a9d1e77e",
   "metadata": {},
   "outputs": [],
   "source": [
    "df['platform'].unique()"
   ]
  },
  {
   "cell_type": "code",
   "execution_count": null,
   "id": "1e9c3849",
   "metadata": {},
   "outputs": [],
   "source": [
    "df_blinkit = df.loc[df['platform']=='blinkit'].reset_index()"
   ]
  },
  {
   "cell_type": "code",
   "execution_count": null,
   "id": "fcd2b787",
   "metadata": {},
   "outputs": [],
   "source": [
    "df_blinkit = df_blinkit.drop(['index', 'date'], axis=1)"
   ]
  },
  {
   "cell_type": "code",
   "execution_count": null,
   "id": "249d6bc7",
   "metadata": {},
   "outputs": [],
   "source": [
    "df_blinkit"
   ]
  },
  {
   "cell_type": "code",
   "execution_count": null,
   "id": "339929e2",
   "metadata": {},
   "outputs": [],
   "source": [
    "df_zepto = df.loc[df['platform']=='zepto'].reset_index()\n",
    "df_zepto = df_zepto.drop(['index', 'date'], axis=1)"
   ]
  },
  {
   "cell_type": "code",
   "execution_count": null,
   "id": "4c9affe6",
   "metadata": {},
   "outputs": [],
   "source": [
    "df_jiomart = df.loc[df['platform']=='jiomart'].reset_index()\n",
    "df_jiomart = df_jiomart.drop(['index', 'date'], axis=1)"
   ]
  },
  {
   "cell_type": "code",
   "execution_count": null,
   "id": "3419eccf",
   "metadata": {},
   "outputs": [],
   "source": [
    "df_jiomart"
   ]
  },
  {
   "cell_type": "code",
   "execution_count": null,
   "id": "71e2632d",
   "metadata": {},
   "outputs": [],
   "source": [
    "df_zepto"
   ]
  },
  {
   "cell_type": "markdown",
   "id": "67df5037",
   "metadata": {},
   "source": [
    "# Calculate Positive (Rated 3+) & Negative (Rated 3-) Reviews"
   ]
  },
  {
   "cell_type": "code",
   "execution_count": null,
   "id": "4a6e0746",
   "metadata": {},
   "outputs": [],
   "source": [
    "positive_reviews_zepto = df_zepto[df_zepto['rating']>3].shape[0]\n",
    "negative_reviews_zepto = df_zepto[df_zepto['rating']<=3].shape[0]"
   ]
  },
  {
   "cell_type": "code",
   "execution_count": null,
   "id": "211dc4df",
   "metadata": {},
   "outputs": [],
   "source": [
    "positive_reviews_blinkit = df_blinkit[df_blinkit['rating']>3].shape[0]\n",
    "negative_reviews_blinkit = df_blinkit[df_blinkit['rating']<=3].shape[0]"
   ]
  },
  {
   "cell_type": "code",
   "execution_count": null,
   "id": "bff81718",
   "metadata": {},
   "outputs": [],
   "source": [
    "positive_reviews_jiomart = df_jiomart[df_jiomart['rating']>3].shape[0]\n",
    "negative_reviews_jiomart = df_jiomart[df_jiomart['rating']<=3].shape[0]"
   ]
  },
  {
   "cell_type": "markdown",
   "id": "6b5660f6",
   "metadata": {},
   "source": [
    "# EDA"
   ]
  },
  {
   "cell_type": "code",
   "execution_count": null,
   "id": "064c26d6",
   "metadata": {},
   "outputs": [],
   "source": [
    "plt.figure(figsize=(10,8))\n",
    "# Example data (already counted positive and negative ratings)\n",
    "brands = ['Blinkit', 'Zepto', 'Jiomart']\n",
    "positive_counts = [positive_reviews_blinkit, positive_reviews_zepto, positive_reviews_jiomart]  # Replace with your positive counts\n",
    "negative_counts = [negative_reviews_blinkit, negative_reviews_zepto, negative_reviews_jiomart]  # Replace with your negative counts\n",
    "\n",
    "# Plotting side-by-side bars\n",
    "bar_width = 0.1\n",
    "x = range(len(brands))\n",
    "\n",
    "# Create bars for positive and negative ratings\n",
    "bars_positive = plt.bar(x, positive_counts, width=bar_width, label='Positive (>3)', color='#32CD31')\n",
    "bars_negative = plt.bar([i + bar_width for i in x], negative_counts, width=bar_width, label='Negative (<=3)', color='#FF2117')\n",
    "for bar in bars_positive:\n",
    "    plt.text(bar.get_x() + bar.get_width() / 2, bar.get_height(), \n",
    "             str(bar.get_height()), ha='center', va='bottom', fontsize=10)\n",
    "\n",
    "for bar in bars_negative:\n",
    "    plt.text(bar.get_x() + bar.get_width() / 2, bar.get_height() + bar.get_y(), \n",
    "             str(bar.get_height()), ha='center', va='bottom', fontsize=10)\n",
    "\n",
    "# Labels and title\n",
    "plt.xlabel('Brand')\n",
    "plt.ylabel('Count of Ratings')\n",
    "plt.title('Positive and Negative Ratings for 3 Brands')\n",
    "plt.xticks([i + bar_width / 2 for i in x], brands)\n",
    "plt.legend(title='Rating Category')\n",
    "\n",
    "# Show plot\n",
    "plt.show()\n"
   ]
  },
  {
   "cell_type": "code",
   "execution_count": null,
   "id": "2a18dc5c",
   "metadata": {},
   "outputs": [],
   "source": [
    "df.shape"
   ]
  },
  {
   "cell_type": "code",
   "execution_count": null,
   "id": "ed0b956a",
   "metadata": {},
   "outputs": [],
   "source": [
    "sns.palettes.SEABORN_PALETTES.keys()\n",
    "\n",
    "sns.countplot(df, x='platform', hue='rating', palette='coolwarm')\n",
    "plt.title('Rating plot of brands')\n",
    "plt.xlabel('Brands')\n",
    "plt.ylabel('Number of reviews')\n",
    "plt.legend(title = 'Rating')\n",
    "plt.show()"
   ]
  },
  {
   "cell_type": "markdown",
   "id": "486dc5c8",
   "metadata": {},
   "source": [
    "# Word Cloud for each platform"
   ]
  },
  {
   "cell_type": "code",
   "execution_count": null,
   "id": "6b7a7c7a",
   "metadata": {
    "scrolled": true
   },
   "outputs": [],
   "source": [
    "def generate_wordCloud(text, title):\n",
    "    \n",
    "    cloud = WordCloud(width = 400, height = 400, \n",
    "                       background_color='white', \n",
    "                       stopwords=set(stopwords.words('english'))).generate(text)\n",
    "    plt.imshow(cloud, interpolation='bilinear')\n",
    "    plt.title(title)\n",
    "    plt.axis('off')\n",
    "    plt.show()\n",
    "    \n",
    "\n",
    "platforms = df['platform'].unique()\n",
    "for platform in platforms:\n",
    "    text = ' '.join(df[df['platform']==platform]['review'].astype(str))\n",
    "    generate_wordCloud(text, f'Word Cloud for {platform.capitalize()}')\n",
    "    \n"
   ]
  },
  {
   "cell_type": "markdown",
   "id": "58432817",
   "metadata": {},
   "source": [
    "#  A sentiment analysis pipeline using Hugging Face Transformers library"
   ]
  },
  {
   "cell_type": "code",
   "execution_count": null,
   "id": "8797a02d",
   "metadata": {},
   "outputs": [],
   "source": [
    "sentiment_pipeline = pipeline(\"sentiment-analysis\", device=-1)  # -1 uses CPU, No gpu."
   ]
  },
  {
   "cell_type": "code",
   "execution_count": null,
   "id": "a26d7aef",
   "metadata": {},
   "outputs": [],
   "source": [
    "def classify_sentiment(text):\n",
    "    result = sentiment_pipeline(text)\n",
    "    return result[0]['label']"
   ]
  },
  {
   "cell_type": "code",
   "execution_count": null,
   "id": "af46c6c1",
   "metadata": {},
   "outputs": [],
   "source": [
    "df['sentiment'] = df['review'].apply(classify_sentiment)"
   ]
  },
  {
   "cell_type": "markdown",
   "id": "a5024071",
   "metadata": {},
   "source": [
    "# Updated data on the basis of Semantic analysis"
   ]
  },
  {
   "cell_type": "code",
   "execution_count": null,
   "id": "88a2afee",
   "metadata": {},
   "outputs": [],
   "source": [
    "df"
   ]
  },
  {
   "cell_type": "markdown",
   "id": "b6c495ea",
   "metadata": {},
   "source": [
    "\n"
   ]
  },
  {
   "cell_type": "markdown",
   "id": "6c3b5a87",
   "metadata": {},
   "source": [
    "# Grouping Data to get count for Positive & Negative Sentiments for each platform with EDA"
   ]
  },
  {
   "cell_type": "code",
   "execution_count": null,
   "id": "758a2dd3",
   "metadata": {},
   "outputs": [],
   "source": [
    "sentiment_counts = df.groupby(['platform', 'sentiment']).size().reset_index(name='count')"
   ]
  },
  {
   "cell_type": "code",
   "execution_count": null,
   "id": "79bbc054",
   "metadata": {},
   "outputs": [],
   "source": [
    "sentiment_counts"
   ]
  },
  {
   "cell_type": "code",
   "execution_count": null,
   "id": "a749c1a0",
   "metadata": {},
   "outputs": [],
   "source": [
    "plt.figure(figsize=(8, 4))\n",
    "sns.barplot(data=sentiment_counts, x='platform', y='count',hue='sentiment',palette='bright6')\n",
    "plt.title('Sentiment analysis of E-commerces')\n",
    "plt.xlabel('Brand')\n",
    "# plt.xticks(rotation=45, fontsize=12)\n",
    "plt.ylabel('Number of reviews')\n",
    "plt.legend(title='Sentiment')\n",
    "plt.show()"
   ]
  },
  {
   "cell_type": "markdown",
   "id": "9e8bcdda",
   "metadata": {},
   "source": [
    "# Initializing Sentence Transformer model for t-SNE"
   ]
  },
  {
   "cell_type": "code",
   "execution_count": null,
   "id": "bb18f99b",
   "metadata": {},
   "outputs": [],
   "source": [
    "model = SentenceTransformer('all-MiniLM-L6-v2')"
   ]
  },
  {
   "cell_type": "code",
   "execution_count": null,
   "id": "9f4dd776",
   "metadata": {},
   "outputs": [],
   "source": [
    "myEnc = LabelEncoder()\n",
    "df['Encoded_Platform'] = myEnc.fit_transform(df['platform'])"
   ]
  },
  {
   "cell_type": "code",
   "execution_count": null,
   "id": "7137dc7f",
   "metadata": {},
   "outputs": [],
   "source": [
    "embeddings = model.encode(df['review'], show_progress_bar=True)"
   ]
  },
  {
   "cell_type": "code",
   "execution_count": null,
   "id": "75cef0d5",
   "metadata": {},
   "outputs": [],
   "source": [
    "tsne = TSNE(n_components=2, random_state=42, perplexity=5, n_iter=300)\n",
    "tsne_results = tsne.fit_transform(embeddings)"
   ]
  },
  {
   "cell_type": "code",
   "execution_count": null,
   "id": "1c20ed26",
   "metadata": {},
   "outputs": [],
   "source": [
    "df['tsne-2d-one'] = tsne_results[:,0]\n",
    "df['tsne-2d-two'] = tsne_results[:,1]"
   ]
  },
  {
   "cell_type": "code",
   "execution_count": null,
   "id": "5b5c442c",
   "metadata": {},
   "outputs": [],
   "source": [
    "plt.figure(figsize=(10,8))\n",
    "sns.scatterplot(\n",
    "    x=\"tsne-2d-one\", y=\"tsne-2d-two\",\n",
    "    hue=\"platform\",\n",
    "    palette=sns.color_palette(\"hsv\", len(platforms)),\n",
    "    data=df,\n",
    "#     legend=\"full,\n",
    "    alpha=0.7\n",
    ")\n",
    "plt.title('t-SNE Visualization of Reviews')\n",
    "plt.legend(title='Platform')\n",
    "plt.show()"
   ]
  },
  {
   "cell_type": "code",
   "execution_count": null,
   "id": "486cfa6c",
   "metadata": {},
   "outputs": [],
   "source": []
  }
 ],
 "metadata": {
  "kernelspec": {
   "display_name": "py3upgraded",
   "language": "python",
   "name": "py3upgraded"
  },
  "language_info": {
   "codemirror_mode": {
    "name": "ipython",
    "version": 3
   },
   "file_extension": ".py",
   "mimetype": "text/x-python",
   "name": "python",
   "nbconvert_exporter": "python",
   "pygments_lexer": "ipython3",
   "version": "3.8.5"
  }
 },
 "nbformat": 4,
 "nbformat_minor": 5
}
